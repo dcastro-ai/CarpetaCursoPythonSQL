{
 "cells": [
  {
   "cell_type": "code",
   "execution_count": 1,
   "metadata": {},
   "outputs": [
    {
     "data": {
      "text/plain": [
       "4.0"
      ]
     },
     "execution_count": 1,
     "metadata": {},
     "output_type": "execute_result"
    }
   ],
   "source": [
    "# Comentarios\n",
    "# python ejecuta de arriba hacia abajo \n",
    "# Operaciones basicas \n",
    "\n",
    "# Suma\n",
    "1+1\n",
    "# Resta\n",
    "1-1\n",
    "# Multiplicacion \n",
    "5*7\n",
    "# Division\n",
    "20/5\n",
    "# Solo muestra la ultima linea del codigo, si quisieramos mostrar\n",
    "# todos los resultados, hay que usar la funcion \"print\""
   ]
  },
  {
   "cell_type": "code",
   "execution_count": 2,
   "metadata": {},
   "outputs": [
    {
     "data": {
      "text/plain": [
       "-1"
      ]
     },
     "execution_count": 2,
     "metadata": {},
     "output_type": "execute_result"
    }
   ],
   "source": [
    "# esto es un comentario\n",
    "3-4"
   ]
  }
 ],
 "metadata": {
  "kernelspec": {
   "display_name": "Python 3",
   "language": "python",
   "name": "python3"
  },
  "language_info": {
   "codemirror_mode": {
    "name": "ipython",
    "version": 3
   },
   "file_extension": ".py",
   "mimetype": "text/x-python",
   "name": "python",
   "nbconvert_exporter": "python",
   "pygments_lexer": "ipython3",
   "version": "3.10.4"
  },
  "orig_nbformat": 4
 },
 "nbformat": 4,
 "nbformat_minor": 2
}
